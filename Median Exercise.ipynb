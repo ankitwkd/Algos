{
 "cells": [
  {
   "cell_type": "code",
   "execution_count": 1,
   "metadata": {},
   "outputs": [
    {
     "data": {
      "text/plain": [
       "[0.05, 0.05, 0.1, 0.1, 0.15, 0.2, 0.35]"
      ]
     },
     "execution_count": 1,
     "metadata": {},
     "output_type": "execute_result"
    }
   ],
   "source": [
    "x = [0.1,0.35,0.05,0.1,0.15,0.05,0.2]\n",
    "x.sort()\n",
    "x"
   ]
  },
  {
   "cell_type": "code",
   "execution_count": 3,
   "metadata": {},
   "outputs": [
    {
     "name": "stdout",
     "output_type": "stream",
     "text": [
      "5\n",
      "Position:  5\n",
      "Element:  0.2\n"
     ]
    }
   ],
   "source": [
    "lsum = 0\n",
    "rsum = sum(x) - x[0]\n",
    "i = 0\n",
    "while i < len(x):\n",
    "    if lsum < 0.5 and rsum <= 0.5:\n",
    "        print(i)\n",
    "        break\n",
    "    lsum += x[i]\n",
    "    i += 1\n",
    "    rsum -= x[i]\n",
    "    \n",
    "print(\"Position: \",i)\n",
    "print(\"Element: \", x[i])"
   ]
  },
  {
   "cell_type": "code",
   "execution_count": 23,
   "metadata": {},
   "outputs": [
    {
     "name": "stdout",
     "output_type": "stream",
     "text": [
      "0.2\n"
     ]
    }
   ],
   "source": [
    "def find_median(i):\n",
    "    if i%2==0:\n",
    "        return i//2\n",
    "    return (i+1)//2\n",
    "def select(x, p, q, lsum, rsum):\n",
    "    if p==q:\n",
    "        return x[p]\n",
    "#     print(p,q)\n",
    "    i = p + find_median(q-p+1)\n",
    "    ls = lsum[i]\n",
    "    rs = rsum[i]\n",
    "#     print(ls,rs,i)\n",
    "    if ls < 0.5 and rs <= 0.5:\n",
    "        return x[i]\n",
    "    if ls >= 0.5:\n",
    "        return select(x, p, i-1, lsum, rsum)\n",
    "    elif rs > 0.5:\n",
    "        return select(x, i+1, q, lsum, rsum)\n",
    "x = [0.1,0.35,0.05,0.1,0.15,0.05,0.2]\n",
    "x.sort()\n",
    "lsum = []\n",
    "s = 0\n",
    "for i in x:\n",
    "    lsum.append(s)\n",
    "    s+=i\n",
    "s = 0\n",
    "rsum = []\n",
    "for i in reversed(x):\n",
    "    rsum.insert(0,s)\n",
    "    s += i\n",
    "print(select(x,0,len(x)-1, lsum, rsum))"
   ]
  },
  {
   "cell_type": "code",
   "execution_count": null,
   "metadata": {},
   "outputs": [],
   "source": []
  }
 ],
 "metadata": {
  "kernelspec": {
   "display_name": "Python 3",
   "language": "python",
   "name": "python3"
  },
  "language_info": {
   "codemirror_mode": {
    "name": "ipython",
    "version": 3
   },
   "file_extension": ".py",
   "mimetype": "text/x-python",
   "name": "python",
   "nbconvert_exporter": "python",
   "pygments_lexer": "ipython3",
   "version": "3.8.5"
  }
 },
 "nbformat": 4,
 "nbformat_minor": 4
}
